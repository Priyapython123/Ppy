{
 "cells": [
  {
   "cell_type": "code",
   "execution_count": 22,
   "metadata": {},
   "outputs": [],
   "source": [
    "class Greet_user:\n",
    "    \"\"\"creating a greet user class\"\"\"\n",
    "    def create_name(self,name):\n",
    "        self.name=name\n",
    "    def display_name(self):\n",
    "        print(f\"{self.name}\")\n",
    "    def greet_name(self):\n",
    "        print(f\"hello,{self.name}\")\n",
    "    "
   ]
  },
  {
   "cell_type": "code",
   "execution_count": 23,
   "metadata": {},
   "outputs": [
    {
     "name": "stdout",
     "output_type": "stream",
     "text": [
      "sneha\n"
     ]
    }
   ],
   "source": [
    "test=Greet_user()\n",
    "test.create_name('sneha')\n",
    "test.display_name()"
   ]
  },
  {
   "cell_type": "code",
   "execution_count": 24,
   "metadata": {},
   "outputs": [
    {
     "name": "stdout",
     "output_type": "stream",
     "text": [
      "hello,sneha\n"
     ]
    }
   ],
   "source": [
    "test.greet_name()"
   ]
  },
  {
   "cell_type": "raw",
   "metadata": {},
   "source": []
  },
  {
   "cell_type": "code",
   "execution_count": 9,
   "metadata": {},
   "outputs": [],
   "source": [
    "class Computer:\n",
    "    def config(self,cpu,ram):\n",
    "        self.cpu=cpu\n",
    "        self.ram=ram\n",
    "        "
   ]
  },
  {
   "cell_type": "code",
   "execution_count": 11,
   "metadata": {},
   "outputs": [
    {
     "name": "stdout",
     "output_type": "stream",
     "text": [
      "i5,16gb,1TB\n"
     ]
    }
   ],
   "source": [
    "com1=Computer()\n",
    "com1.config('i5','16gb')\n",
    "print(\"i5,16gb,1TB\")"
   ]
  },
  {
   "cell_type": "code",
   "execution_count": 22,
   "metadata": {},
   "outputs": [],
   "source": [
    "class Dog:\n",
    "    def __init__(self,name,age):\n",
    "        self.name=name\n",
    "        self.age=age\n",
    "    def bark(self):\n",
    "        print(\"bark bark!\")\n",
    "    def doginfo(self):\n",
    "        print(self.name + \" is \" + str(self.age) + \" years old.\") \n",
    "    "
   ]
  },
  {
   "cell_type": "code",
   "execution_count": 28,
   "metadata": {},
   "outputs": [],
   "source": [
    "ozzy=Dog(\"ozy\",2)\n",
    "skippy=Dog(\"skippy\",12)\n",
    "filou=Dog(\"filou\",8)"
   ]
  },
  {
   "cell_type": "code",
   "execution_count": 30,
   "metadata": {},
   "outputs": [
    {
     "name": "stdout",
     "output_type": "stream",
     "text": [
      "ozy is 2 years old.\n",
      "skippy is 12 years old.\n",
      "filou is 8 years old.\n"
     ]
    }
   ],
   "source": [
    "ozzy.doginfo()\n",
    "skippy.doginfo()\n",
    "filou.doginfo()"
   ]
  },
  {
   "cell_type": "code",
   "execution_count": 18,
   "metadata": {},
   "outputs": [
    {
     "name": "stdout",
     "output_type": "stream",
     "text": [
      "ozy\n",
      "2\n"
     ]
    }
   ],
   "source": [
    "print(ozzy.name)\n",
    "print(ozzy.age)"
   ]
  },
  {
   "cell_type": "code",
   "execution_count": 19,
   "metadata": {},
   "outputs": [
    {
     "name": "stdout",
     "output_type": "stream",
     "text": [
      "ozy is 2 years old.\n"
     ]
    }
   ],
   "source": [
    "print(self.name + \" is \" + str(self.age) + \" years old.\")"
   ]
  },
  {
   "cell_type": "code",
   "execution_count": null,
   "metadata": {},
   "outputs": [],
   "source": []
  },
  {
   "cell_type": "code",
   "execution_count": null,
   "metadata": {},
   "outputs": [],
   "source": []
  }
 ],
 "metadata": {
  "kernelspec": {
   "display_name": "Python 3",
   "language": "python",
   "name": "python3"
  },
  "language_info": {
   "codemirror_mode": {
    "name": "ipython",
    "version": 3
   },
   "file_extension": ".py",
   "mimetype": "text/x-python",
   "name": "python",
   "nbconvert_exporter": "python",
   "pygments_lexer": "ipython3",
   "version": "3.8.3"
  }
 },
 "nbformat": 4,
 "nbformat_minor": 4
}

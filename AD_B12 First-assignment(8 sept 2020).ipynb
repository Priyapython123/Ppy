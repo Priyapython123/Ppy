{
 "cells": [
  {
   "cell_type": "code",
   "execution_count": 1,
   "metadata": {},
   "outputs": [
    {
     "name": "stdout",
     "output_type": "stream",
     "text": [
      "{'nile': 'egypt', 'Ganga': 'India', 'Amazon': 'South America'}\n"
     ]
    }
   ],
   "source": [
    "#problem statement1 using dictionary print country and river name\n",
    "world_famous={'nile':'egypt','Ganga':'India','Amazon':'South America'}\n",
    "print(world_famous)"
   ]
  },
  {
   "cell_type": "code",
   "execution_count": 2,
   "metadata": {},
   "outputs": [
    {
     "data": {
      "text/plain": [
       "dict"
      ]
     },
     "execution_count": 2,
     "metadata": {},
     "output_type": "execute_result"
    }
   ],
   "source": [
    "#req-->> to validate datatype\n",
    "type(world_famous)"
   ]
  },
  {
   "cell_type": "code",
   "execution_count": 9,
   "metadata": {},
   "outputs": [
    {
     "name": "stdout",
     "output_type": "stream",
     "text": [
      "nile:egypt\n",
      "Ganga:India\n",
      "Amazon:South America\n"
     ]
    }
   ],
   "source": [
    "#req-->>print river name with respect of country name using loop\n",
    "for x,y in world_famous.items():\n",
    "    print(f\"{x}:{y}\")\n",
    "    "
   ]
  },
  {
   "cell_type": "code",
   "execution_count": null,
   "metadata": {},
   "outputs": [],
   "source": []
  },
  {
   "cell_type": "code",
   "execution_count": 13,
   "metadata": {},
   "outputs": [
    {
     "name": "stdout",
     "output_type": "stream",
     "text": [
      "nile runs through egypt\n",
      "\n",
      "Ganga runs through India\n",
      "\n",
      "Amazon runs through South America\n",
      "\n"
     ]
    }
   ],
   "source": [
    "#req-->>use a loop to print a statement river runs through countries:\n",
    "world_famous={'nile':'egypt','Ganga':'India','Amazon':'South America'}\n",
    "for x,y in world_famous.items():\n",
    "    print(f\"{x} runs through {y}\\n\")"
   ]
  },
  {
   "cell_type": "code",
   "execution_count": null,
   "metadata": {},
   "outputs": [],
   "source": []
  },
  {
   "cell_type": "code",
   "execution_count": 44,
   "metadata": {},
   "outputs": [
    {
     "name": "stdout",
     "output_type": "stream",
     "text": [
      "nile\n",
      "Amazon\n",
      "Ganga\n"
     ]
    }
   ],
   "source": [
    "#req-->>use a loop to print the name of the river\n",
    "river={'nile','Ganga','Amazon'}\n",
    "for x in river:\n",
    "    print(x)\n",
    "       "
   ]
  },
  {
   "cell_type": "code",
   "execution_count": 45,
   "metadata": {},
   "outputs": [
    {
     "name": "stdout",
     "output_type": "stream",
     "text": [
      "Egypt\n",
      "India\n",
      "South America\n"
     ]
    }
   ],
   "source": [
    "#req-->>use a loop to print the name of the country\n",
    "country={'Egypt','India','South America'}\n",
    "for y in country:\n",
    "     print(y)\n",
    "   "
   ]
  },
  {
   "cell_type": "code",
   "execution_count": null,
   "metadata": {},
   "outputs": [],
   "source": []
  },
  {
   "cell_type": "code",
   "execution_count": null,
   "metadata": {},
   "outputs": [],
   "source": []
  },
  {
   "cell_type": "code",
   "execution_count": null,
   "metadata": {},
   "outputs": [],
   "source": []
  },
  {
   "cell_type": "code",
   "execution_count": null,
   "metadata": {},
   "outputs": [],
   "source": []
  },
  {
   "cell_type": "code",
   "execution_count": null,
   "metadata": {},
   "outputs": [],
   "source": []
  },
  {
   "cell_type": "code",
   "execution_count": null,
   "metadata": {},
   "outputs": [],
   "source": []
  }
 ],
 "metadata": {
  "kernelspec": {
   "display_name": "Python 3",
   "language": "python",
   "name": "python3"
  },
  "language_info": {
   "codemirror_mode": {
    "name": "ipython",
    "version": 3
   },
   "file_extension": ".py",
   "mimetype": "text/x-python",
   "name": "python",
   "nbconvert_exporter": "python",
   "pygments_lexer": "ipython3",
   "version": "3.8.3"
  }
 },
 "nbformat": 4,
 "nbformat_minor": 4
}
